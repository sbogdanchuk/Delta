{
 "cells": [
  {
   "cell_type": "code",
   "execution_count": 1,
   "metadata": {},
   "outputs": [
    {
     "data": {
      "text/plain": [
       "defined \u001b[32mfunction\u001b[39m \u001b[36mdelta\u001b[39m\r\n",
       "defined \u001b[32mfunction\u001b[39m \u001b[36mparse\u001b[39m\r\n",
       "defined \u001b[32mfunction\u001b[39m \u001b[36mf\u001b[39m"
      ]
     },
     "execution_count": 1,
     "metadata": {},
     "output_type": "execute_result"
    }
   ],
   "source": [
    "def delta(t1:String, t2:String):String={\n",
    "\tval tupA=parse(t1)\n",
    "\tval tupB=parse(t2)\n",
    "\tval res=tupA._1*60+tupA._2-tupB._1*60-tupB._2\n",
    "\tval resH=res/60\n",
    "\treturn resH.toString+\":\"+(\"%02d\".format(res-resH*60)).toString\n",
    "}\n",
    "\n",
    "def parse(s:String):Tuple2[Int,Int]=\n",
    "{\n",
    "\tval arr=if(s.contains(\":\"))s.split(\":\") else s.split(\"-\")\n",
    "\treturn (if(arr(0).isEmpty)0 else arr(0).toInt, if(arr.length==1)0 else arr(1).toInt)\n",
    "}\n",
    "\n",
    "def f(args:String):String={\n",
    "    val list = args.split(\" \")\n",
    "    if(list.length>=2)\n",
    "        s\"Total=${list.reduceLeft((a,b)=>delta(a,b))}\"\n",
    "    else \"At least two arguments expected!\"\n",
    "}"
   ]
  },
  {
   "cell_type": "code",
   "execution_count": 2,
   "metadata": {},
   "outputs": [
    {
     "data": {
      "text/plain": [
       "\u001b[36mres1\u001b[39m: \u001b[32mString\u001b[39m = \u001b[32m\"Total=6:53\"\u001b[39m"
      ]
     },
     "execution_count": 2,
     "metadata": {},
     "output_type": "execute_result"
    }
   ],
   "source": [
    "f(\"17-48 -20 10-35\")"
   ]
  },
  {
   "cell_type": "code",
   "execution_count": 3,
   "metadata": {},
   "outputs": [
    {
     "data": {
      "text/plain": [
       "\u001b[36mres2\u001b[39m: \u001b[32mString\u001b[39m = \u001b[32m\"Total=1:17\"\u001b[39m"
      ]
     },
     "execution_count": 3,
     "metadata": {},
     "output_type": "execute_result"
    }
   ],
   "source": [
    "f(\"10-02 8-45\")"
   ]
  },
  {
   "cell_type": "code",
   "execution_count": 5,
   "metadata": {},
   "outputs": [
    {
     "data": {
      "text/plain": [
       "\u001b[36mres4\u001b[39m: \u001b[32mDouble\u001b[39m = \u001b[32m1.2222222222222223\u001b[39m"
      ]
     },
     "execution_count": 5,
     "metadata": {},
     "output_type": "execute_result"
    }
   ],
   "source": [
    "77/63.0"
   ]
  },
  {
   "cell_type": "code",
   "execution_count": 6,
   "metadata": {},
   "outputs": [
    {
     "data": {
      "text/plain": [
       "\u001b[36mres5\u001b[39m: \u001b[32mInt\u001b[39m = \u001b[32m60\u001b[39m"
      ]
     },
     "execution_count": 6,
     "metadata": {},
     "output_type": "execute_result"
    }
   ],
   "source": [
    "123-63"
   ]
  },
  {
   "cell_type": "code",
   "execution_count": null,
   "metadata": {
    "collapsed": true
   },
   "outputs": [],
   "source": []
  }
 ],
 "metadata": {
  "kernelspec": {
   "display_name": "Scala",
   "language": "scala",
   "name": "scala"
  },
  "language_info": {
   "codemirror_mode": "text/x-scala",
   "file_extension": ".scala",
   "mimetype": "text/x-scala",
   "name": "scala211",
   "nbconvert_exporter": "script",
   "pygments_lexer": "scala",
   "version": "2.11.11"
  }
 },
 "nbformat": 4,
 "nbformat_minor": 2
}
